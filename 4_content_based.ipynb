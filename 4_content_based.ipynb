{
 "cells": [
  {
   "cell_type": "code",
   "execution_count": 1,
   "metadata": {},
   "outputs": [],
   "source": [
    "import matplotlib.pyplot as plt\n",
    "import numpy as np\n",
    "import pandas as pd\n",
    "import string\n",
    "import re"
   ]
  },
  {
   "cell_type": "code",
   "execution_count": 2,
   "metadata": {},
   "outputs": [],
   "source": [
    "import gensim\n",
    "from gensim import corpora, models, similarities\n",
    "\n",
    "import nltk\n",
    "from nltk.corpus import stopwords"
   ]
  },
  {
   "cell_type": "code",
   "execution_count": 3,
   "metadata": {},
   "outputs": [],
   "source": [
    "import scipy\n",
    "from scipy.spatial.distance import cdist\n",
    "from scipy.sparse import csr_matrix\n",
    "from scipy.sparse.linalg import svds\n",
    "from scipy.linalg import svd"
   ]
  },
  {
   "cell_type": "code",
   "execution_count": 4,
   "metadata": {},
   "outputs": [],
   "source": [
    "from sklearn.cluster import KMeans\n",
    "from sklearn.feature_extraction.text import TfidfVectorizer\n",
    "from sklearn.metrics import silhouette_score, silhouette_samples\n",
    "from sklearn.metrics.pairwise import cosine_similarity, linear_kernel\n",
    "from sklearn.model_selection import train_test_split"
   ]
  },
  {
   "cell_type": "markdown",
   "metadata": {},
   "source": [
    "# Reading data sets\n",
    "\n",
    "1. news_articles - Contains raw articles without user data amalgamation\n",
    "2. user_interest - Contains raw articles mixed with user data as an amalgamation with ArticleID as Foreign Key"
   ]
  },
  {
   "cell_type": "markdown",
   "metadata": {},
   "source": [
    "## news_articles"
   ]
  },
  {
   "cell_type": "code",
   "execution_count": 6,
   "metadata": {
    "scrolled": true
   },
   "outputs": [
    {
     "data": {
      "text/html": [
       "<div>\n",
       "<style scoped>\n",
       "    .dataframe tbody tr th:only-of-type {\n",
       "        vertical-align: middle;\n",
       "    }\n",
       "\n",
       "    .dataframe tbody tr th {\n",
       "        vertical-align: top;\n",
       "    }\n",
       "\n",
       "    .dataframe thead th {\n",
       "        text-align: right;\n",
       "    }\n",
       "</style>\n",
       "<table border=\"1\" class=\"dataframe\">\n",
       "  <thead>\n",
       "    <tr style=\"text-align: right;\">\n",
       "      <th></th>\n",
       "      <th>Article_id</th>\n",
       "      <th>Title</th>\n",
       "      <th>Description</th>\n",
       "      <th>Date</th>\n",
       "      <th>Category</th>\n",
       "      <th>URL</th>\n",
       "    </tr>\n",
       "  </thead>\n",
       "  <tbody>\n",
       "    <tr>\n",
       "      <th>0</th>\n",
       "      <td>0</td>\n",
       "      <td>Fire at Vaishno Devi shrine complex; cash coun...</td>\n",
       "      <td>No one was injured in the fire, which broke ou...</td>\n",
       "      <td>June 8, 2021 7:28:32 pm</td>\n",
       "      <td>India</td>\n",
       "      <td>https://indianexpress.com/article/india/vaishn...</td>\n",
       "    </tr>\n",
       "    <tr>\n",
       "      <th>1</th>\n",
       "      <td>1</td>\n",
       "      <td>Had not gone to meet Nawaz Sharif, says Uddhav...</td>\n",
       "      <td>Uddhav Thackeray led a delegation of his cabin...</td>\n",
       "      <td>June 8, 2021 6:56:40 pm</td>\n",
       "      <td>India</td>\n",
       "      <td>https://indianexpress.com/article/india/had-no...</td>\n",
       "    </tr>\n",
       "    <tr>\n",
       "      <th>2</th>\n",
       "      <td>2</td>\n",
       "      <td>Corruption case: Former Haryana I-T deputy com...</td>\n",
       "      <td>It was in 2016 that the CBI had arrested Nitin...</td>\n",
       "      <td>June 8, 2021  6:25:24 pm</td>\n",
       "      <td>India</td>\n",
       "      <td>https://indianexpress.com/article/india/corrup...</td>\n",
       "    </tr>\n",
       "    <tr>\n",
       "      <th>3</th>\n",
       "      <td>3</td>\n",
       "      <td>Kannur MP K Sudhakaran appointed chief of Cong...</td>\n",
       "      <td>Sudhakaran will replace Ramachandran who had a...</td>\n",
       "      <td>June 8, 2021  5:04:40 pm</td>\n",
       "      <td>India</td>\n",
       "      <td>https://indianexpress.com/article/india/sudhak...</td>\n",
       "    </tr>\n",
       "    <tr>\n",
       "      <th>4</th>\n",
       "      <td>4</td>\n",
       "      <td>Kerala girl of Class 5 writes to CJI, lauds SC...</td>\n",
       "      <td>Chief Justice N V Ramana responded to the Clas...</td>\n",
       "      <td>June 8, 2021  4:43:10 pm</td>\n",
       "      <td>India</td>\n",
       "      <td>https://indianexpress.com/article/india/kerala...</td>\n",
       "    </tr>\n",
       "  </tbody>\n",
       "</table>\n",
       "</div>"
      ],
      "text/plain": [
       "   Article_id                                              Title  \\\n",
       "0           0  Fire at Vaishno Devi shrine complex; cash coun...   \n",
       "1           1  Had not gone to meet Nawaz Sharif, says Uddhav...   \n",
       "2           2  Corruption case: Former Haryana I-T deputy com...   \n",
       "3           3  Kannur MP K Sudhakaran appointed chief of Cong...   \n",
       "4           4  Kerala girl of Class 5 writes to CJI, lauds SC...   \n",
       "\n",
       "                                         Description  \\\n",
       "0  No one was injured in the fire, which broke ou...   \n",
       "1  Uddhav Thackeray led a delegation of his cabin...   \n",
       "2  It was in 2016 that the CBI had arrested Nitin...   \n",
       "3  Sudhakaran will replace Ramachandran who had a...   \n",
       "4  Chief Justice N V Ramana responded to the Clas...   \n",
       "\n",
       "                       Date Category  \\\n",
       "0   June 8, 2021 7:28:32 pm    India   \n",
       "1   June 8, 2021 6:56:40 pm    India   \n",
       "2  June 8, 2021  6:25:24 pm    India   \n",
       "3  June 8, 2021  5:04:40 pm    India   \n",
       "4  June 8, 2021  4:43:10 pm    India   \n",
       "\n",
       "                                                 URL  \n",
       "0  https://indianexpress.com/article/india/vaishn...  \n",
       "1  https://indianexpress.com/article/india/had-no...  \n",
       "2  https://indianexpress.com/article/india/corrup...  \n",
       "3  https://indianexpress.com/article/india/sudhak...  \n",
       "4  https://indianexpress.com/article/india/kerala...  "
      ]
     },
     "execution_count": 6,
     "metadata": {},
     "output_type": "execute_result"
    }
   ],
   "source": [
    "data = pd.read_csv(r'0_news_articles.csv')\n",
    "data.head()"
   ]
  },
  {
   "cell_type": "markdown",
   "metadata": {},
   "source": [
    "## user_interest"
   ]
  },
  {
   "cell_type": "code",
   "execution_count": 7,
   "metadata": {},
   "outputs": [
    {
     "name": "stdout",
     "output_type": "stream",
     "text": [
      "(1100, 11)\n"
     ]
    },
    {
     "data": {
      "text/html": [
       "<div>\n",
       "<style scoped>\n",
       "    .dataframe tbody tr th:only-of-type {\n",
       "        vertical-align: middle;\n",
       "    }\n",
       "\n",
       "    .dataframe tbody tr th {\n",
       "        vertical-align: top;\n",
       "    }\n",
       "\n",
       "    .dataframe thead th {\n",
       "        text-align: right;\n",
       "    }\n",
       "</style>\n",
       "<table border=\"1\" class=\"dataframe\">\n",
       "  <thead>\n",
       "    <tr style=\"text-align: right;\">\n",
       "      <th></th>\n",
       "      <th>Article_id</th>\n",
       "      <th>Title</th>\n",
       "      <th>Description</th>\n",
       "      <th>Date</th>\n",
       "      <th>URL</th>\n",
       "      <th>UserId</th>\n",
       "      <th>SessionId</th>\n",
       "      <th>Article Rank</th>\n",
       "      <th>Click</th>\n",
       "      <th>Time Spent (seconds)</th>\n",
       "    </tr>\n",
       "  </thead>\n",
       "  <tbody>\n",
       "    <tr>\n",
       "      <th>0</th>\n",
       "      <td>1</td>\n",
       "      <td>Had not gone to meet Nawaz Sharif, says Uddhav...</td>\n",
       "      <td>Uddhav Thackeray led a delegation of his cabin...</td>\n",
       "      <td>June 8, 2021 6:56:40 pm</td>\n",
       "      <td>https://indianexpress.com/article/india/had-no...</td>\n",
       "      <td>1</td>\n",
       "      <td>1</td>\n",
       "      <td>2</td>\n",
       "      <td>True</td>\n",
       "      <td>24</td>\n",
       "    </tr>\n",
       "    <tr>\n",
       "      <th>1</th>\n",
       "      <td>2</td>\n",
       "      <td>Corruption case: Former Haryana I-T deputy com...</td>\n",
       "      <td>It was in 2016 that the CBI had arrested Nitin...</td>\n",
       "      <td>June 8, 2021  6:25:24 pm</td>\n",
       "      <td>https://indianexpress.com/article/india/corrup...</td>\n",
       "      <td>1</td>\n",
       "      <td>1</td>\n",
       "      <td>3</td>\n",
       "      <td>True</td>\n",
       "      <td>18</td>\n",
       "    </tr>\n",
       "    <tr>\n",
       "      <th>2</th>\n",
       "      <td>6</td>\n",
       "      <td>Uddhav Thackeray meets PM Modi; discusses Mara...</td>\n",
       "      <td>Deputy Chief Minister and senior NCP leader Aj...</td>\n",
       "      <td>June 8, 2021 2:25:23 pm</td>\n",
       "      <td>https://indianexpress.com/article/india/mahara...</td>\n",
       "      <td>1</td>\n",
       "      <td>1</td>\n",
       "      <td>7</td>\n",
       "      <td>True</td>\n",
       "      <td>47</td>\n",
       "    </tr>\n",
       "    <tr>\n",
       "      <th>3</th>\n",
       "      <td>7</td>\n",
       "      <td>New Covid-19 vaccination guidelines out, alloc...</td>\n",
       "      <td>As per the revised guidelines, the Centre will...</td>\n",
       "      <td>June 8, 2021  4:27:29 pm</td>\n",
       "      <td>https://indianexpress.com/article/india/govt-r...</td>\n",
       "      <td>1</td>\n",
       "      <td>1</td>\n",
       "      <td>8</td>\n",
       "      <td>True</td>\n",
       "      <td>47</td>\n",
       "    </tr>\n",
       "    <tr>\n",
       "      <th>4</th>\n",
       "      <td>9</td>\n",
       "      <td>Fire at TMC MLA Madan Mitra’s residence in Kol...</td>\n",
       "      <td>Mitra along with his family members rushed out...</td>\n",
       "      <td>June 8, 2021 12:53:24 pm</td>\n",
       "      <td>https://indianexpress.com/article/india/fire-m...</td>\n",
       "      <td>1</td>\n",
       "      <td>1</td>\n",
       "      <td>10</td>\n",
       "      <td>True</td>\n",
       "      <td>73</td>\n",
       "    </tr>\n",
       "  </tbody>\n",
       "</table>\n",
       "</div>"
      ],
      "text/plain": [
       "   Article_id                                              Title  \\\n",
       "0           1  Had not gone to meet Nawaz Sharif, says Uddhav...   \n",
       "1           2  Corruption case: Former Haryana I-T deputy com...   \n",
       "2           6  Uddhav Thackeray meets PM Modi; discusses Mara...   \n",
       "3           7  New Covid-19 vaccination guidelines out, alloc...   \n",
       "4           9  Fire at TMC MLA Madan Mitra’s residence in Kol...   \n",
       "\n",
       "                                         Description  \\\n",
       "0  Uddhav Thackeray led a delegation of his cabin...   \n",
       "1  It was in 2016 that the CBI had arrested Nitin...   \n",
       "2  Deputy Chief Minister and senior NCP leader Aj...   \n",
       "3  As per the revised guidelines, the Centre will...   \n",
       "4  Mitra along with his family members rushed out...   \n",
       "\n",
       "                       Date  \\\n",
       "0   June 8, 2021 6:56:40 pm   \n",
       "1  June 8, 2021  6:25:24 pm   \n",
       "2   June 8, 2021 2:25:23 pm   \n",
       "3  June 8, 2021  4:27:29 pm   \n",
       "4  June 8, 2021 12:53:24 pm   \n",
       "\n",
       "                                                 URL  UserId  SessionId  \\\n",
       "0  https://indianexpress.com/article/india/had-no...       1          1   \n",
       "1  https://indianexpress.com/article/india/corrup...       1          1   \n",
       "2  https://indianexpress.com/article/india/mahara...       1          1   \n",
       "3  https://indianexpress.com/article/india/govt-r...       1          1   \n",
       "4  https://indianexpress.com/article/india/fire-m...       1          1   \n",
       "\n",
       "   Article Rank  Click  Time Spent (seconds)  \n",
       "0             2   True                    24  \n",
       "1             3   True                    18  \n",
       "2             7   True                    47  \n",
       "3             8   True                    47  \n",
       "4            10   True                    73  "
      ]
     },
     "execution_count": 7,
     "metadata": {},
     "output_type": "execute_result"
    }
   ],
   "source": [
    "user = pd.read_csv(r'2_user_interest.csv')\n",
    "print(user.shape)\n",
    "user.drop(columns= user.columns[0], \n",
    "        axis=1, \n",
    "        inplace=True)\n",
    "user.head()\n"
   ]
  },
  {
   "cell_type": "markdown",
   "metadata": {},
   "source": [
    "## Content Based"
   ]
  },
  {
   "cell_type": "code",
   "execution_count": 8,
   "metadata": {},
   "outputs": [
    {
     "data": {
      "text/plain": [
       "(1100, 4445)"
      ]
     },
     "execution_count": 8,
     "metadata": {},
     "output_type": "execute_result"
    }
   ],
   "source": [
    "vectorizer = TfidfVectorizer(analyzer = 'word')\n",
    "tfidf_matrix = vectorizer.fit_transform(user['Title'])\n",
    "tfidf_matrix.shape"
   ]
  },
  {
   "cell_type": "code",
   "execution_count": 9,
   "metadata": {},
   "outputs": [],
   "source": [
    "# cosine-similarity (linear kernel)\n",
    "cosine_similarity = linear_kernel(tfidf_matrix, tfidf_matrix)\n",
    "\n",
    "# index of Title\n",
    "indices = pd.Series(user['Title'].index)"
   ]
  },
  {
   "cell_type": "code",
   "execution_count": 10,
   "metadata": {},
   "outputs": [],
   "source": [
    "# making predictions\n",
    "\n",
    "def recommendation(index, method):\n",
    "    id = indices[index]\n",
    "    \n",
    "    # fetching the top 10 articles\n",
    "    \n",
    "    similarity_score = list(enumerate(method[id]))\n",
    "    similarity_score = sorted(similarity_score, key = lambda x: x[1], reverse = True)\n",
    "    similarity_score = similarity_score[1:11]\n",
    "    \n",
    "    # get the article index\n",
    "    news_index = [i[0] for i in similarity_score]\n",
    "    \n",
    "    # returning the top 10 most similar books\n",
    "    return user['Title'].iloc[news_index]"
   ]
  },
  {
   "cell_type": "code",
   "execution_count": 11,
   "metadata": {},
   "outputs": [
    {
     "data": {
      "text/html": [
       "<div>\n",
       "<style scoped>\n",
       "    .dataframe tbody tr th:only-of-type {\n",
       "        vertical-align: middle;\n",
       "    }\n",
       "\n",
       "    .dataframe tbody tr th {\n",
       "        vertical-align: top;\n",
       "    }\n",
       "\n",
       "    .dataframe thead th {\n",
       "        text-align: right;\n",
       "    }\n",
       "</style>\n",
       "<table border=\"1\" class=\"dataframe\">\n",
       "  <thead>\n",
       "    <tr style=\"text-align: right;\">\n",
       "      <th></th>\n",
       "      <th>Article_id</th>\n",
       "      <th>Title</th>\n",
       "      <th>Description</th>\n",
       "      <th>Date</th>\n",
       "      <th>URL</th>\n",
       "      <th>UserId</th>\n",
       "      <th>SessionId</th>\n",
       "      <th>Article Rank</th>\n",
       "      <th>Click</th>\n",
       "      <th>Time Spent (seconds)</th>\n",
       "    </tr>\n",
       "  </thead>\n",
       "  <tbody>\n",
       "    <tr>\n",
       "      <th>256</th>\n",
       "      <td>512</td>\n",
       "      <td>Government expects speedy launch of single-dos...</td>\n",
       "      <td>An application seeking regulatory approval for...</td>\n",
       "      <td>May 28, 2021  7:03:20 am</td>\n",
       "      <td>https://indianexpress.com/article/india/govern...</td>\n",
       "      <td>502</td>\n",
       "      <td>497</td>\n",
       "      <td>3</td>\n",
       "      <td>True</td>\n",
       "      <td>82</td>\n",
       "    </tr>\n",
       "  </tbody>\n",
       "</table>\n",
       "</div>"
      ],
      "text/plain": [
       "     Article_id                                              Title  \\\n",
       "256         512  Government expects speedy launch of single-dos...   \n",
       "\n",
       "                                           Description  \\\n",
       "256  An application seeking regulatory approval for...   \n",
       "\n",
       "                         Date  \\\n",
       "256  May 28, 2021  7:03:20 am   \n",
       "\n",
       "                                                   URL  UserId  SessionId  \\\n",
       "256  https://indianexpress.com/article/india/govern...     502        497   \n",
       "\n",
       "     Article Rank  Click  Time Spent (seconds)  \n",
       "256             3   True                    82  "
      ]
     },
     "execution_count": 11,
     "metadata": {},
     "output_type": "execute_result"
    }
   ],
   "source": [
    "# obtaining random input\n",
    "input = user.sample()\n",
    "input"
   ]
  },
  {
   "cell_type": "code",
   "execution_count": 12,
   "metadata": {},
   "outputs": [
    {
     "data": {
      "text/plain": [
       "290    Surat: Dalit youths attempt suicide over actor...\n",
       "61     J&K journalist booked for WhatsApp status over...\n",
       "595    Saurabh Chaudhary leads way in stellar show by...\n",
       "317                       Jayant Chaudhary new RLD chief\n",
       "211    Two shot by gunmen in J&K’s Anantnag; police s...\n",
       "83     Ghaziabad: Swimming pool owner booked for lett...\n",
       "223    Arunachal court remands Punjab YouTuber to six...\n",
       "313    Black fungus in Haryana: 413 cases, no Covid i...\n",
       "272    Abduction by ‘fake CBI officers’: Kolkata Poli...\n",
       "622    Elavenil Valarivan, Saurabh Chaudhary put up s...\n",
       "Name: Title, dtype: object"
      ]
     },
     "execution_count": 12,
     "metadata": {},
     "output_type": "execute_result"
    }
   ],
   "source": [
    "# passing the input\n",
    "recommendation(224, cosine_similarity)"
   ]
  },
  {
   "cell_type": "code",
   "execution_count": null,
   "metadata": {},
   "outputs": [],
   "source": []
  },
  {
   "cell_type": "code",
   "execution_count": null,
   "metadata": {},
   "outputs": [],
   "source": []
  }
 ],
 "metadata": {
  "kernelspec": {
   "display_name": "Python 3 (ipykernel)",
   "language": "python",
   "name": "python3"
  },
  "language_info": {
   "codemirror_mode": {
    "name": "ipython",
    "version": 3
   },
   "file_extension": ".py",
   "mimetype": "text/x-python",
   "name": "python",
   "nbconvert_exporter": "python",
   "pygments_lexer": "ipython3",
   "version": "3.9.13"
  }
 },
 "nbformat": 4,
 "nbformat_minor": 2
}
